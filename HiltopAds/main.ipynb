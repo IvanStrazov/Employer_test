{
 "cells": [
  {
   "cell_type": "markdown",
   "metadata": {},
   "source": [
    "# HilltopAds"
   ]
  },
  {
   "cell_type": "markdown",
   "metadata": {},
   "source": [
    " "
   ]
  },
  {
   "cell_type": "markdown",
   "metadata": {},
   "source": [
    " "
   ]
  },
  {
   "cell_type": "markdown",
   "metadata": {},
   "source": [
    "# Задание\n",
    "\n",
    "В архиве test.zip находятся файлы:\n",
    "- requests.csv – лог запросов за одну минуту (время до секунд; наносекунды; название фида; IP; User Agent); Фиды – источники трафика, сущности, по которым нужно получить описываемые далее метрики.\n",
    "- stat_rps.tsv – выгрузка статистики по каждому фиду с суммарным дневным числом запросов и максимальным значением RPS (requests per second).\n",
    "\n",
    "Необходимо составить отчет в виде .tsv файла (report.tsv), содержащего таблицу со следующими столбцами:\n",
    "- Feed – название фида;\n",
    "- Total – суммарное число запросов в логе, относящихся к фиду;\n",
    "- Uniq – число уникальных пар IP+UserAgent в логе для данного фида;\n",
    "- MaxRPS – максимальное значение RPS для данного фида;\n",
    "- Requests – суммарное число запросов за день, относящихся к данному фиду;\n",
    "- Resell – процент уникальных пар IP+UserAgent данного фида, которые впервые (по времени) были замечены у другого фида в представленном логе;\n",
    "- UniquenessMean | UniquenessMedian | UniquenessPerc90 – среднее значение уникальности пары IP+UserAgent, медиана и 90-й процентиль. \n",
    "\n",
    "Уникальность – количество повторений пары IP+UserAgent в логе: 1, 2, 3,.... Для фида уникальность конкретной пары считается как число ее глобального появления в логе на момент ее последнего появления в этом фиде.\n",
    "\n",
    "Пример:\n",
    "- В 12:00:00.325436 был запрос с параметрами IP+UserAgent [51.133.3.12, Mozilla/5.0 Galeon/1.2.9 (X11; Linux i686; U;) Gecko/20030319 Debian/1.2.9-0.0.3], относящийся к фиду feed1.\n",
    "- Позже в 12:00:00.5463878 запрос с этими же параметрами [51.133.3.12, Mozilla/5.0 Galeon/1.2.9 (X11; Linux i686; U;) Gecko/20030319 Debian/1.2.9-0.0.3] был зафиксирован для фида feed2.\n",
    "- В 12:00:02 запрос [51.133.3.12, Mozilla/5.0 Galeon/1.2.9 (X11; Linux i686; U;) Gecko/20030319 Debian/1.2.9-0.0.3] снова относился к feed1.\n",
    "- Кроме этих трех запросов для указанных фидов было еще по 2 глобально уникальных запроса.\n",
    "- Других запросов для этих или других фидов за минуту не было. Суммарно в логе 7 запросов.\n",
    "- Получаем:\n",
    "    - Уникальности пары [51.133.3.12, Mozilla/5.0 Galeon/1.2.9 (X11; Linux i686; U;) Gecko/20030319 Debian/1.2.9-0.0.3] для фидов feed1 и feed2 равны 3 и 2 соответственно. У всех других пар IP+UserAgent уникальности равны 1.\n",
    "    - Для feed2 зафиксирован реселл, у feed1 реселла нет, так как пара [51.133.3.12, Mozilla/5.0 Galeon/1.2.9 (X11; Linux i686; U;) Gecko/20030319 Debian/1.2.9-0.0.3] изначально относилась к нему.\n",
    "    - С учетом всех семи запросов имеем следующие метрики:\n",
    "        - feed1: Resell = 0/3 = 0;  UniquenessMean = (3 + 1 + 1)/3 = 1.666. Здесь у feed1 четыре запроса, но уникальных пар IP+UserAgent – три.\n",
    "        - feed2: Resell = 1/3 = 0.333;  UniquenessMean = (2 + 1 + 1)/3 = 1.333\n",
    "\n",
    "Требования:\n",
    "- строки должны быть отсортированы по столбцу Total (desc);\n",
    "- разделитель столбцов – символ табуляции '\\t';\n",
    "- все числовые данные сохраняются как числа с плавающей точкой без округлений;\n",
    "- процентные значения сохраняются как числа из интервала [0; 1]: писать знак % и умножать на 100 не нужно;\n",
    "- первая строка файла должна содержать названия столбцов;\n",
    "- порядок и названия столбцов должны в точности соответствовать заданию; никаких дополнительных столбцов быть не должно;\n",
    "- вместе с отчетом нужно предоставить исходный код, использовавшийся для его формирования, и инструкции для запуска."
   ]
  },
  {
   "cell_type": "markdown",
   "metadata": {},
   "source": [
    " "
   ]
  },
  {
   "cell_type": "markdown",
   "metadata": {},
   "source": [
    " "
   ]
  },
  {
   "cell_type": "markdown",
   "metadata": {},
   "source": [
    "# Реализация"
   ]
  },
  {
   "cell_type": "code",
   "execution_count": 1,
   "metadata": {},
   "outputs": [],
   "source": [
    "from functions import *"
   ]
  },
  {
   "cell_type": "markdown",
   "metadata": {},
   "source": [
    "### Вид лога"
   ]
  },
  {
   "cell_type": "code",
   "execution_count": 2,
   "metadata": {},
   "outputs": [
    {
     "name": "stdout",
     "output_type": "stream",
     "text": [
      "['12:00:00', '672693', 'feed0', '157.44.215.151', 'Mozilla/5.0 (Linux; Android 9; vivo 1907) AppleWebKit/537.36 (KHTML, like Gecko) Chrome/79.0.3945.93 Mobile Safari/537.36']\n"
     ]
    }
   ],
   "source": [
    "logs = load_logs()\n",
    "for i in logs:\n",
    "    print(i)\n",
    "    break"
   ]
  },
  {
   "cell_type": "markdown",
   "metadata": {},
   "source": [
    "### Вид дневной статистики"
   ]
  },
  {
   "cell_type": "code",
   "execution_count": 3,
   "metadata": {},
   "outputs": [
    {
     "data": {
      "text/html": [
       "<div>\n",
       "<style scoped>\n",
       "    .dataframe tbody tr th:only-of-type {\n",
       "        vertical-align: middle;\n",
       "    }\n",
       "\n",
       "    .dataframe tbody tr th {\n",
       "        vertical-align: top;\n",
       "    }\n",
       "\n",
       "    .dataframe thead th {\n",
       "        text-align: right;\n",
       "    }\n",
       "</style>\n",
       "<table border=\"1\" class=\"dataframe\">\n",
       "  <thead>\n",
       "    <tr style=\"text-align: right;\">\n",
       "      <th></th>\n",
       "      <th>feed</th>\n",
       "      <th>requests</th>\n",
       "      <th>rps</th>\n",
       "    </tr>\n",
       "  </thead>\n",
       "  <tbody>\n",
       "    <tr>\n",
       "      <th>0</th>\n",
       "      <td>feed79</td>\n",
       "      <td>3155278</td>\n",
       "      <td>66.913611</td>\n",
       "    </tr>\n",
       "    <tr>\n",
       "      <th>1</th>\n",
       "      <td>feed275</td>\n",
       "      <td>20363</td>\n",
       "      <td>2.053333</td>\n",
       "    </tr>\n",
       "  </tbody>\n",
       "</table>\n",
       "</div>"
      ],
      "text/plain": [
       "      feed  requests        rps\n",
       "0   feed79   3155278  66.913611\n",
       "1  feed275     20363   2.053333"
      ]
     },
     "execution_count": 3,
     "metadata": {},
     "output_type": "execute_result"
    }
   ],
   "source": [
    "with ZipFile('test.zip') as z:\n",
    "    stat = pd.read_csv(z.open('stat_rps.tsv'), sep='\\t')\n",
    "stat.head(2)"
   ]
  },
  {
   "cell_type": "markdown",
   "metadata": {},
   "source": [
    "### Вид на выходе"
   ]
  },
  {
   "cell_type": "code",
   "execution_count": 4,
   "metadata": {},
   "outputs": [
    {
     "data": {
      "text/html": [
       "<div>\n",
       "<style scoped>\n",
       "    .dataframe tbody tr th:only-of-type {\n",
       "        vertical-align: middle;\n",
       "    }\n",
       "\n",
       "    .dataframe tbody tr th {\n",
       "        vertical-align: top;\n",
       "    }\n",
       "\n",
       "    .dataframe thead th {\n",
       "        text-align: right;\n",
       "    }\n",
       "</style>\n",
       "<table border=\"1\" class=\"dataframe\">\n",
       "  <thead>\n",
       "    <tr style=\"text-align: right;\">\n",
       "      <th></th>\n",
       "      <th>Feed</th>\n",
       "      <th>Total</th>\n",
       "      <th>Uniq</th>\n",
       "      <th>MaxRPS</th>\n",
       "      <th>Requests</th>\n",
       "      <th>Resell</th>\n",
       "      <th>UniquenessMean</th>\n",
       "      <th>UniquenessMedian</th>\n",
       "      <th>UniquenessPerc90</th>\n",
       "    </tr>\n",
       "  </thead>\n",
       "  <tbody>\n",
       "    <tr>\n",
       "      <th>0</th>\n",
       "      <td>feed231</td>\n",
       "      <td>587959</td>\n",
       "      <td>492876</td>\n",
       "      <td>32747.403056</td>\n",
       "      <td>2.391022e+09</td>\n",
       "      <td>0.096156</td>\n",
       "      <td>1.389836</td>\n",
       "      <td>1.0</td>\n",
       "      <td>2.0</td>\n",
       "    </tr>\n",
       "    <tr>\n",
       "      <th>1</th>\n",
       "      <td>feed227</td>\n",
       "      <td>271842</td>\n",
       "      <td>247841</td>\n",
       "      <td>39622.197778</td>\n",
       "      <td>2.797295e+09</td>\n",
       "      <td>0.213855</td>\n",
       "      <td>1.692206</td>\n",
       "      <td>1.0</td>\n",
       "      <td>3.0</td>\n",
       "    </tr>\n",
       "  </tbody>\n",
       "</table>\n",
       "</div>"
      ],
      "text/plain": [
       "      Feed   Total    Uniq        MaxRPS      Requests    Resell  \\\n",
       "0  feed231  587959  492876  32747.403056  2.391022e+09  0.096156   \n",
       "1  feed227  271842  247841  39622.197778  2.797295e+09  0.213855   \n",
       "\n",
       "   UniquenessMean  UniquenessMedian  UniquenessPerc90  \n",
       "0        1.389836               1.0               2.0  \n",
       "1        1.692206               1.0               3.0  "
      ]
     },
     "execution_count": 4,
     "metadata": {},
     "output_type": "execute_result"
    }
   ],
   "source": [
    "report = pd.read_csv('report.tsv', '\\t')\n",
    "report.head(2)"
   ]
  }
 ],
 "metadata": {
  "kernelspec": {
   "display_name": "Python 3",
   "language": "python",
   "name": "python3"
  },
  "language_info": {
   "codemirror_mode": {
    "name": "ipython",
    "version": 3
   },
   "file_extension": ".py",
   "mimetype": "text/x-python",
   "name": "python",
   "nbconvert_exporter": "python",
   "pygments_lexer": "ipython3",
   "version": "3.7.6"
  }
 },
 "nbformat": 4,
 "nbformat_minor": 4
}
